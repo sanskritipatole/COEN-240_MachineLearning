{
  "nbformat": 4,
  "nbformat_minor": 0,
  "metadata": {
    "anaconda-cloud": {},
    "kernelspec": {
      "display_name": "Python 3",
      "language": "python",
      "name": "python3"
    },
    "language_info": {
      "codemirror_mode": {
        "name": "ipython",
        "version": 3
      },
      "file_extension": ".py",
      "mimetype": "text/x-python",
      "name": "python",
      "nbconvert_exporter": "python",
      "pygments_lexer": "ipython3",
      "version": "3.5.5"
    },
    "colab": {
      "name": "Assignment_discriminant_analysis.ipynb",
      "provenance": []
    }
  },
  "cells": [
    {
      "cell_type": "markdown",
      "metadata": {
        "collapsed": true,
        "id": "d1jvXBfCDRqN"
      },
      "source": [
        "# DISCRIMINANT ANALYSIS\n",
        "\n",
        "In this coding assignment you are to implement a Minimum Risk Bayes Decision Theoretic classifier and use it to classify the test examples in the provided datasets.  \n",
        "Assume the following:\n",
        "1. All conditional density functions are multivariate Gaussian\n",
        "2. Each class has its own covariance matrix\n",
        "3. Equally likely prior probabilities\n",
        "4. 0-1 loss function\n"
      ]
    },
    {
      "cell_type": "markdown",
      "metadata": {
        "id": "-d-qRoESDRqP"
      },
      "source": [
        "## Training Phase"
      ]
    },
    {
      "cell_type": "code",
      "metadata": {
        "id": "a5tFsCiqDRqQ"
      },
      "source": [
        "import numpy as np\n",
        "import pandas as pd\n",
        "import matplotlib.pyplot as plt\n",
        "\n",
        "# Load training data - 135 observations, 4 features, 3 classes, \n",
        "df = pd.read_csv(\"iris_corrupted_training_data.csv\")\n",
        "print(df.head())\n",
        "df = df.values\n",
        "tr_data = df\n",
        "\n",
        "# Load validation data - 15 samples\n",
        "df = pd.read_csv(\"iris_validation_data.csv\")\n",
        "print(df.head())\n",
        "df = df.values\n",
        "val_data = df"
      ],
      "execution_count": null,
      "outputs": []
    },
    {
      "cell_type": "code",
      "metadata": {
        "id": "wbgINl8MDRqc"
      },
      "source": [
        "# Compute various components of the disriminant functions\n",
        "tr_data1 = tr_data[np.where(tr_data[:,4]==1),:]  # shape = 1,45,5\n",
        "tr_data2 = tr_data[np.where(tr_data[:,4]==2),:]\n",
        "tr_data3 = tr_data[np.where(tr_data[:,4]==3),:]\n",
        "[i,j,k] = np.shape(tr_data1)\n",
        "\n",
        "tr_data1 = tr_data1.reshape(j,k)  # reshape to 2D (45,5), last col is label col\n",
        "tr_data2 = tr_data2.reshape(j,k)\n",
        "tr_data3 = tr_data3.reshape(j,k)\n",
        "\n",
        "# Size of tr_data* are now 45x4\n",
        "tr_data1 = tr_data1[:,0:4]\n",
        "tr_data2 = tr_data2[:,0:4]\n",
        "tr_data3 = tr_data3[:,0:4]\n",
        "\n",
        "\n",
        "# TO DO: \n",
        "# Find the mean of each class\n",
        "#  u1, u2, u3 are the 1x4 mean vectors for tr_data1, tr_data2, tr_data3 matrices\n",
        "#  Note: dimension of each of tr_data is 45x4, \n",
        "#        hence dimensions of u1, u2, u3 = 1x4\n",
        "# Hint: use np.mean\n",
        "\n",
        "\n",
        "\n",
        "\n",
        "# TO DO:\n",
        "# Find the covariance of each class\n",
        "#  cov1, cov2, cov3 are the covariance matrices of \n",
        "#      tr_data1, tr_data2, tr_data3\n",
        "#  dimension cov1, cov2, cov3 must be 4x4\n",
        "# Hint: use np.cov, np.tranpose\n",
        "\n",
        "\n",
        "\n",
        "\n",
        "# TO DO: \n",
        "# Compute the determinant of cov* and its log. These are scalar quantities\n",
        "#  Hint: use np.log, np.linalg.det\n",
        "\n",
        "\n",
        "\n",
        "\n",
        "# TO DO:\n",
        "# Compute the inverse of cov*\n",
        "#   These are matrices of size 4x4\n",
        "#   Hint: use np.linalg.inv\n",
        "\n",
        "\n",
        "\n",
        "\n",
        "# Equally likely proir prob.\n",
        "log_prior = np.log(1/3)"
      ],
      "execution_count": null,
      "outputs": []
    },
    {
      "cell_type": "code",
      "metadata": {
        "id": "hLRWIp4_K2Rr"
      },
      "source": [
        "# print the mean vectors and the covariance matrices\n",
        "print(u1)\n",
        "print(u2)\n",
        "print(u3)\n",
        "print(cov1)\n",
        "print(cov2)\n",
        "print(cov3)"
      ],
      "execution_count": null,
      "outputs": []
    },
    {
      "cell_type": "markdown",
      "metadata": {
        "id": "I0ab1rXfDRqi"
      },
      "source": [
        "## Validation phase"
      ]
    },
    {
      "cell_type": "code",
      "metadata": {
        "id": "6d1zwqD6DRqj"
      },
      "source": [
        "# Evaluate model accuracy with validation dataset\n",
        "# The dimension of the validation dataset, val_data, is 15x5. The first four\n",
        "# columns are the feature columns and the last column is the class label column\n",
        "\n",
        "# For each sample, compute the discriminant function (g1, g2, g3) corresponding to each class\n",
        "# Assume equal prior = 1/3\n",
        "# The predicted class label is associated with the largest of g1, g2, g3\n",
        "# Count the number of correctly predicted labels\n",
        "\n",
        "correct_class = 0;  # number of correctly predicted label\n",
        "\n",
        "for i in range(0, len(val_data)):\n",
        "    \n",
        "    x = val_data[i,0:4]  # test sample's feature vector (transpose) 1x4\n",
        "    y = val_data[i,4]    # test samples's true label\n",
        "    \n",
        "    # TO DO: compute g1, g2, g3\n",
        "\n",
        "\n",
        "\n",
        "\n",
        "    # TO DO: \n",
        "    #  Now find the predicted class y_hat, compare it with the true label y\n",
        "    #  and count the number of corectly predicted labels (correct_class)\n",
        "    #  Recall this is a classification problem, hence y_hat should be \n",
        "    #  a discrete value (1, 2 or 3)\n",
        "    \n",
        "\n",
        "    \n",
        "    if (yhat == y):\n",
        "        correct_class = correct_class + 1;\n",
        "\n",
        "print('Classification accuracy = ', '{0:.4f}'. format(correct_class/15))"
      ],
      "execution_count": null,
      "outputs": []
    }
  ]
}