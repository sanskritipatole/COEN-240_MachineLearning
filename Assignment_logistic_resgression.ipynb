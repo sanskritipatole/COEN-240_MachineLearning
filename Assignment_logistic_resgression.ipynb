{
  "nbformat": 4,
  "nbformat_minor": 0,
  "metadata": {
    "colab": {
      "name": "Assignment_logistic_resgression.ipynb",
      "provenance": []
    },
    "language_info": {
      "codemirror_mode": {
        "name": "ipython",
        "version": 3
      },
      "file_extension": ".py",
      "mimetype": "text/x-python",
      "name": "python",
      "nbconvert_exporter": "python",
      "pygments_lexer": "ipython3",
      "version": "3.5.5"
    },
    "kernelspec": {
      "display_name": "Python 3",
      "language": "python",
      "name": "python3"
    }
  },
  "cells": [
    {
      "cell_type": "markdown",
      "metadata": {
        "id": "VGDKqNGv1Rtx"
      },
      "source": [
        "# Logistic Regression\n",
        "\n",
        "You will implement logistic regression classifier.\n",
        "\n",
        "Iris dataset with only 2 classes is provided to test the code.\n"
      ]
    },
    {
      "cell_type": "code",
      "metadata": {
        "id": "alBxk8lq1Rt4"
      },
      "source": [
        "import numpy as np\n",
        "import pandas as pd\n",
        "import numpy.matlib\n",
        "import matplotlib.pyplot as plt\n",
        "\n",
        "# read dataset\n",
        "df = pd.read_csv(\"shuffled_2class_iris_dataset.csv\")\n",
        "print(df.head())\n",
        "\n",
        "df = df.values\n",
        "X = df[:,0:4]   # 100x4\n",
        "y = df[:,4]     # 100x1\n"
      ],
      "execution_count": null,
      "outputs": []
    },
    {
      "cell_type": "code",
      "metadata": {
        "id": "uCmn7QBC1Rue",
        "scrolled": true
      },
      "source": [
        "# Zero out the mean\n",
        "diff = X.max(0) - X.min(0)\n",
        "X = X - diff\n",
        "\n",
        "# Create 90/10 trainig/test sets\n",
        "train_data = X[0:90,0:4]; train_label = y[0:90]\n",
        "test_data = X[90:100,0:4]; test_label = y[90:100]\n",
        "\n",
        "zz = np.ones((len(test_data),1))\n",
        "test_data = np.concatenate((zz,test_data), axis=1)  # 90x5\n",
        "\n",
        "np.random.seed(1)"
      ],
      "execution_count": null,
      "outputs": []
    },
    {
      "cell_type": "markdown",
      "metadata": {
        "id": "XyMKJ1us1Ruv"
      },
      "source": [
        "### Training"
      ]
    },
    {
      "cell_type": "code",
      "metadata": {
        "id": "uw7RwLKT1Ruy"
      },
      "source": [
        "# Train the model using the training data\n",
        "\n",
        "# Use batch gradient descent to find the optimal weights of the sigmoid function\n",
        "# Experiment with different learning rates\n",
        "# Run it for 1500 iterations.  You may change the number of iterations as you see fit.\n",
        "\n",
        "# Initialization\n",
        "nu = 0.01\n",
        "MAX_EPOCHS = 1500\n",
        "J_vec = []\n",
        "\n",
        "# The rest of initialization ...\n",
        "\n",
        "zz = np.ones((len(train_data),1))\n",
        "X_train = np.concatenate((zz,train_data), axis=1)  # 90x5\n",
        "y_train = train_label.reshape(len(train_label),1)  # 90x1\n",
        "#print ('Xshape=', X.shape, 'yshape=', y.shape)\n",
        "w = np.random.rand(5,1)\n",
        "w0 = w[0]; w1 = w[1]; w2 = w[2]; w3 = w[3]; w4 = w[4]\n",
        "N = len(y_train)\n",
        "\n",
        "# Loop for 1500 epochs\n",
        "for itr in range (0, MAX_EPOCHS):\n",
        "\n",
        "    # TO DO: write the update equation\n",
        "    #   X_train is 90x5; the first column is all 1's\n",
        "    #     1st feature of the first observation (1st row, 2nd column): X_train[0,1]\n",
        "    #     4th feature of the second observation (2nd row, 4th column): X_train[1,4]\n",
        "    #   y_train is 90x1\n",
        "    #     the label of the first observation (1st row): y_train[0]\n",
        "    #     the label of the seventh observation (7th row): y_train[6]\n",
        "    #\n",
        "    #  You may want to use np.exp and np.log in your computation\n",
        "\n",
        "\n",
        "   \n",
        "    # TO DO: compute cost function J\n",
        "   \n",
        "  \n",
        "  \n",
        "    ## Collect the cost function result from each epoch to generate a plot\n",
        "    J_vec.append(J)   # 1500x1\n",
        "    \n",
        "  \n",
        "# Plot cost function vs iterations\n",
        "plt.plot(J_vec)\n",
        "plt.xlabel('Epochs')\n",
        "plt.ylabel('Error')\n",
        "plt.show()"
      ],
      "execution_count": null,
      "outputs": []
    },
    {
      "cell_type": "markdown",
      "metadata": {
        "id": "wrLm9qlX1RvE"
      },
      "source": [
        "### Testing"
      ]
    },
    {
      "cell_type": "code",
      "metadata": {
        "id": "cJ3Z1ZHY1RvH"
      },
      "source": [
        "# Now use the test set to test the model\n",
        "\n",
        "# Print the actual and predicted class labels\n",
        "# Print the average accuracy\n",
        "\n",
        "correct_class_cnt = 0\n",
        "for i in range (0, len(test_data)):\n",
        "    \n",
        "    # TO DO: \n",
        "    # Compute the sigmoid function for each test data and optimal weights\n",
        "    # Find the predicted label y_hat based on threshold = 0.5\n",
        "    # \n",
        "    # test_data = 10x5, the first column is all 1's\n",
        "    #   1st feature of the first observation (1st row, 1st column): test_data[0,1]\n",
        "    #   4th feature of the second observation (2nd row, 3th column): test_data[1,4]\n",
        "    #\n",
        "    #   test_label is 10x1\n",
        "    #   the label of the first observation (1st row): test_label[0]\n",
        "    #   the label of the seventh observation (7th row): test_label[6]\n",
        "\n",
        "   \n",
        "        \n",
        "        \n",
        "    ### Check accuracy\n",
        "    print('y={}, y_hat={}'.format(test_label[i], y_hat))\n",
        "    if (y_hat == test_label[i]):\n",
        "        correct_class_cnt += 1\n",
        "\n",
        "print('Average accuracy = {0:2f}'.format(correct_class_cnt/10))\n"
      ],
      "execution_count": null,
      "outputs": []
    },
    {
      "cell_type": "markdown",
      "metadata": {
        "collapsed": true,
        "id": "IGDft1gb1RvW"
      },
      "source": [
        "Caution: accuracy may change drastically because of overfitting (data set too small)"
      ]
    },
    {
      "cell_type": "code",
      "metadata": {
        "id": "JUhU1bEY1Rva"
      },
      "source": [
        "# Print the optimal weights\n",
        "print(w0, w1, w2, w3, w4)"
      ],
      "execution_count": null,
      "outputs": []
    }
  ]
}