{
  "nbformat": 4,
  "nbformat_minor": 0,
  "metadata": {
    "colab": {
      "provenance": [],
      "collapsed_sections": []
    },
    "kernelspec": {
      "name": "python3",
      "display_name": "Python 3"
    },
    "language_info": {
      "name": "python"
    }
  },
  "cells": [
    {
      "cell_type": "code",
      "execution_count": 1,
      "metadata": {
        "id": "ARJn6WoyT2_M",
        "colab": {
          "base_uri": "https://localhost:8080/"
        },
        "outputId": "76891f21-ff45-459e-a664-e20b49476637"
      },
      "outputs": [
        {
          "output_type": "stream",
          "name": "stdout",
          "text": [
            "True\n",
            "False\n"
          ]
        }
      ],
      "source": [
        "def test_distinct(data):\n",
        "  if len(data) == len(set(data)):\n",
        "    return True\n",
        "  else:\n",
        "    return False\n",
        "\n",
        "\n",
        "\n",
        "print(test_distinct([1,5,7,9]))\n",
        "print(test_distinct([2,4,5,5,7,9]))"
      ]
    },
    {
      "cell_type": "code",
      "source": [
        "def zero_index(numpy_array):\n",
        "  result = np.where(numpy_array==0)[0]\n",
        "  print(result)\n",
        "\n",
        "import numpy as np\n",
        "zero_index(np.array([1,0,2,0,3,0,4,5,6,7,8]))"
      ],
      "metadata": {
        "colab": {
          "base_uri": "https://localhost:8080/"
        },
        "id": "SB2wdjY_gZm-",
        "outputId": "3a1b1b62-a60f-4adb-8cc7-51188017efa4"
      },
      "execution_count": 2,
      "outputs": [
        {
          "output_type": "stream",
          "name": "stdout",
          "text": [
            "[1 3 5]\n"
          ]
        }
      ]
    },
    {
      "cell_type": "code",
      "source": [
        "xi = [100, 200, 300, 400, 500]\n",
        "yi = [65, 155, 220, 310, 370]\n",
        "W0 = 0.25\n",
        "W1 = 0.75\n",
        "\n",
        "summation = 0  \n",
        "m = len(xi) \n",
        "for i in range (0,m):  \n",
        "  difference = W0 + (W1*xi[i]) - yi[i]  \n",
        "  squared_difference = difference**2   \n",
        "  summation = summation + squared_difference  \n",
        "MSE = summation/m \n",
        "print (\"The Mean Square Error is: %s \"% MSE)"
      ],
      "metadata": {
        "colab": {
          "base_uri": "https://localhost:8080/"
        },
        "id": "_WzlD4sT3Cad",
        "outputId": "327843f7-984c-4706-9e4b-6b7c705f670f"
      },
      "execution_count": 3,
      "outputs": [
        {
          "output_type": "stream",
          "name": "stdout",
          "text": [
            "The Mean Square Error is: 55.5625 \n"
          ]
        }
      ]
    },
    {
      "cell_type": "markdown",
      "source": [],
      "metadata": {
        "id": "per8Cp47nJZz"
      }
    }
  ]
}