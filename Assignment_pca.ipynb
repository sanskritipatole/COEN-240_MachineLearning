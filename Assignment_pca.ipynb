{
  "nbformat": 4,
  "nbformat_minor": 0,
  "metadata": {
    "colab": {
      "name": "Assignment_pca.ipynb",
      "provenance": [],
      "collapsed_sections": []
    },
    "kernelspec": {
      "name": "python3",
      "display_name": "Python 3"
    },
    "accelerator": "GPU"
  },
  "cells": [
    {
      "cell_type": "markdown",
      "metadata": {
        "id": "ml58PJ9UDwRk"
      },
      "source": [
        "**Principal Component Analysis**\n",
        "\n",
        "You will implement dimensionality reduction with PCA.  \n",
        "\n",
        "1). Read iris_dataset.csv (4 features, hence 4 PCs)\n",
        "\n",
        "2). Find the principal components\n",
        "\n",
        "3). Recontruct the dataset (X_hat)\n",
        "\n",
        "4). Determine the accuracy of X_hat for 1 PC and 4 PCs using LDA classifier (provided below)\n"
      ]
    },
    {
      "cell_type": "code",
      "metadata": {
        "id": "b3DA-QxT0O6X"
      },
      "source": [
        "import numpy as np\n",
        "import pandas as pd\n",
        "import matplotlib.pyplot as plt\n",
        "from numpy import linalg as LA\n",
        "\n",
        "\n",
        "# Load data - 150 observations, 4 features, 3 classes, \n",
        "df = pd.read_csv(\"iris_dataset.csv\", header=None)\n",
        "print(df.describe())\n",
        "data = df.values"
      ],
      "execution_count": null,
      "outputs": []
    },
    {
      "cell_type": "code",
      "metadata": {
        "id": "9J_I64r12CK1"
      },
      "source": [
        "## Setup\n",
        "\n",
        "# Shuffle data randomly\n",
        "shuffled_data = data;\n",
        "np.random.shuffle(shuffled_data)\n",
        "X = shuffled_data[:,0:4]  # 150x4\n"
      ],
      "execution_count": 2,
      "outputs": []
    },
    {
      "cell_type": "code",
      "metadata": {
        "id": "g3llQ6-RP00N"
      },
      "source": [
        "def evaluate_performance(Xhat, Num_PC, recon_error):\n",
        "  \n",
        "  ##################################\n",
        "  # Evaluate performance using LDA #\n",
        "  ##################################\n",
        "  \n",
        "  from sklearn.discriminant_analysis import LinearDiscriminantAnalysis\n",
        "  from sklearn.model_selection import cross_val_score\n",
        "\n",
        "  no_dim = Num_PC  # number of dimensions\n",
        "  #X_train = X[:,0:no_dim]           # original dataset\n",
        "  X_train = Xhat[:,0:Num_PC]        # dimensionally reduced dataset\n",
        "  y_train = data[:,4]\n",
        "\n",
        "  model_mean_scores = []\n",
        "  model = LinearDiscriminantAnalysis().fit(X_train, y_train)\n",
        "  scores = cross_val_score(model, X_train, y_train, cv=10)\n",
        "  model_mean_scores.append(np.mean(scores))\n",
        "\n",
        "  # Reconstruction error\n",
        "  print('Reconstruction error = {0:0.6f} with {1:1d} PCs, average accuracy = {2:0.4f}'\n",
        "     .format(recon_error, Num_PC, model_mean_scores[0]))"
      ],
      "execution_count": 3,
      "outputs": []
    },
    {
      "cell_type": "code",
      "metadata": {
        "id": "O-L8WvJIAKeY"
      },
      "source": [
        "def create_pc(X, Num_PC):\n",
        "  '''\n",
        "    Inputs: \n",
        "      X : original data set, size 150x4\n",
        "      Num_PC : number of PC's to be used to recover Xhat\n",
        "    Outputs:\n",
        "      PC : principal components, size 150x4\n",
        "      Xhat : reconstructed data set, size 150x4\n",
        "      recon_error : reconstruction error\n",
        "        (l2norm(X) - l2norm(Xhat)) / (l2norm(X))\n",
        "  '''\n",
        "\n",
        "  # Create zero mean dataset\n",
        "  # Find the covariance matrix\n",
        "  # Apply eigen-decomposition\n",
        "  #   Hint: use LA.eig\n",
        "  # Compute principal components\n",
        "\n",
        "  # Reconstruct dataset (Xhat)\n",
        "  # Compute reconstruction error\n",
        "  \n",
        "  #### Your code goes here ...\n",
        "  \n",
        "\n",
        "\n",
        "  return PC, Xhat, recon_error"
      ],
      "execution_count": 4,
      "outputs": []
    },
    {
      "cell_type": "code",
      "metadata": {
        "colab": {
          "base_uri": "https://localhost:8080/"
        },
        "id": "5wh_U_JnLhjy",
        "outputId": "00e9e1f0-5b7b-439e-824c-48b842ba0ece"
      },
      "source": [
        "PC, X_hat, recon_err = create_pc(X,1)\n",
        "evaluate_performance(X_hat, 1, recon_err)\n",
        "\n",
        "PC, X_hat, recon_err = create_pc(X,4)\n",
        "evaluate_performance(X_hat, 4, recon_err)\n",
        "\n"
      ],
      "execution_count": 5,
      "outputs": [
        {
          "output_type": "stream",
          "name": "stdout",
          "text": [
            "Reconstruction error = 0.002696 with 1 PCs, average accuracy = 0.9400\n",
            "Reconstruction error = 0.000000 with 4 PCs, average accuracy = 0.9800\n"
          ]
        }
      ]
    },
    {
      "cell_type": "code",
      "metadata": {
        "id": "0vYQ6gS_kwfG"
      },
      "source": [
        ""
      ],
      "execution_count": 5,
      "outputs": []
    }
  ]
}