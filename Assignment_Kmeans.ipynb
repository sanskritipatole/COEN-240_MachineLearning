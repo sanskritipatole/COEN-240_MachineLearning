{
  "nbformat": 4,
  "nbformat_minor": 0,
  "metadata": {
    "anaconda-cloud": {},
    "kernelspec": {
      "display_name": "Python 3",
      "language": "python",
      "name": "python3"
    },
    "language_info": {
      "codemirror_mode": {
        "name": "ipython",
        "version": 3
      },
      "file_extension": ".py",
      "mimetype": "text/x-python",
      "name": "python",
      "nbconvert_exporter": "python",
      "pygments_lexer": "ipython3",
      "version": "3.5.5"
    },
    "colab": {
      "name": "Assignment_Kmeans.ipynb",
      "provenance": []
    }
  },
  "cells": [
    {
      "cell_type": "markdown",
      "metadata": {
        "id": "EGNl9u_WAdqx"
      },
      "source": [
        "# K-means Clustering Algorithm\n",
        "\n",
        "You will implement the K-means unsupervised learning algorithm.\n",
        "\n",
        "Use the simplified Iris dataset provided to test your code.\n",
        "\n",
        "Column 1: sepal length.\n",
        "Column 2: sepal width\n",
        "\n",
        "50 samples for setosa, 50 samples for versicolor\n",
        "\n",
        "   \n"
      ]
    },
    {
      "cell_type": "code",
      "metadata": {
        "colab": {
          "base_uri": "https://localhost:8080/",
          "height": 285
        },
        "id": "NkmBxlIAAdq4",
        "outputId": "fd7cb6be-87a8-413f-8c5b-b497d14c14ac"
      },
      "source": [
        "# Load dataset and plot it\n",
        "\n",
        "%matplotlib inline\n",
        "import numpy as np\n",
        "import pandas as pd\n",
        "from copy import deepcopy\n",
        "from matplotlib import pyplot as plt\n",
        "\n",
        "df = pd.read_csv('simple_iris_dataset.csv')\n",
        "\n",
        "df1 = df['sepal_length'].values\n",
        "df2 = df['sepal_width'].values\n",
        "X = np.array(list(zip(df1, df2)))   # 100 x 2\n",
        "plt.scatter(df1, df2, c='black', s=7)\n",
        "print(X.shape)"
      ],
      "execution_count": null,
      "outputs": [
        {
          "output_type": "stream",
          "name": "stdout",
          "text": [
            "(100, 2)\n"
          ]
        },
        {
          "output_type": "display_data",
          "data": {
            "image/png": "[encoded data removed]",
            "text/plain": [
              "<Figure size 432x288 with 1 Axes>"
            ]
          },
          "metadata": {
            "needs_background": "light"
          }
        }
      ]
    },
    {
      "cell_type": "code",
      "metadata": {
        "id": "7pRZA4gZuhzP"
      },
      "source": [
        "# Plot the results\n",
        "def plot_clusters(X, clusters, centroids):\n",
        "    \"\"\"\n",
        "      X : 100x2 data matrix\n",
        "      clusters: 100x1 vector indicating the cluster assignment of each data point\n",
        "      centroids: 2x2 matrix, the row contains the coordinates of the centroid \n",
        "    \"\"\"\n",
        "    colors = ['r', 'g', 'b', 'y', 'c', 'm']\n",
        "    k,_ = np.shape(centroids)\n",
        "\n",
        "    fig, ax = plt.subplots()\n",
        "    for i in range(k):\n",
        "        print(colors[i])\n",
        "        points = np.array([X[j] for j in range(len(X)) if clusters[j] == i])\n",
        "        plt.scatter(points[:, 0], points[:, 1], s=7, c=colors[i])\n",
        "\n",
        "    plt.scatter(centroids[:,0], centroids[:,1], marker='*', s=150, c='y')"
      ],
      "execution_count": null,
      "outputs": []
    },
    {
      "cell_type": "code",
      "metadata": {
        "colab": {
          "base_uri": "https://localhost:8080/",
          "height": 319
        },
        "id": "QGPvbmpBEebf",
        "outputId": "2a560199-3ddb-4c83-c48d-6294550c2257"
      },
      "source": [
        "def find_clusters(X):\n",
        "  '''\n",
        "    Input: data set X of size 100x2\n",
        "    Outputs:\n",
        "      clusters: 100x1 vector indicating the cluster assignment of each instance\n",
        "        in the data set X \n",
        "        [0, 1, 1, ...]'  x1=cluster0, x1=cluster1, ...\n",
        "      centroids: 2x2 matrix, the row contains the coordinates of the centroids\n",
        "        [[centroid 1 - 1x2 vector]\n",
        "         [centroid 2 - 1x2 vector]] \n",
        "  '''\n",
        "  # Initialize - take 2 random samples from data set\n",
        "  k=2\n",
        "  N = len(X)\n",
        "  ctr1 = X[(np.random.randint(0,N)),:]\n",
        "  ctr2 = X[(np.random.randint(0,N)),:]\n",
        "\n",
        "  # Initialize the centroids\n",
        "  centroids = np.array(list(zip(ctr1, ctr2)), dtype=np.float32)  # 2x2\n",
        "\n",
        "  # Cluster indices\n",
        "  clusters = np.zeros(len(X))\n",
        "\n",
        "  MAX_ITR = 100\n",
        "  # Loop till convergence, i.e., centroids do not change anymore\n",
        "  # or until raching MAX_ITR\n",
        "\n",
        "  '''\n",
        "    # 1. Create cluster assignment\n",
        "    #    Compute the distance of each instance to both centroids then \n",
        "    #    assign the cluster index (0 or 1)\n",
        "    #    Hint: You may use np.linalg.norm\n",
        "    # 2. Update the centroids\n",
        "    #    Take average of cluster members to update the centroids\n",
        "    #    Hint: consider 'deepcopy'\n",
        "    # 3. Algorithm converges if distance between new and old centroids is 0\n",
        "  '''\n",
        "\n",
        "  for itr in range(0,MAX_ITR):\n",
        "    \n",
        "    # TO DO: your code goes here ...\n",
        "\n",
        "\n",
        "  print('Algorithm converges after {} iterations'. format(itr))\n",
        "  return clusters, centroids\n",
        "\n",
        "\n",
        "clusters, centroids = find_clusters(X)\n",
        "plot_clusters(X, clusters, centroids)"
      ],
      "execution_count": null,
      "outputs": [
        {
          "output_type": "stream",
          "name": "stdout",
          "text": [
            "Algorithm converges after 6 iterations\n",
            "r\n",
            "g\n"
          ]
        },
        {
          "output_type": "display_data",
          "data": {
            "image/png": "[encoded data removed]",
            "text/plain": [
              "<Figure size 432x288 with 1 Axes>"
            ]
          },
          "metadata": {
            "needs_background": "light"
          }
        }
      ]
    },
    {
      "cell_type": "code",
      "metadata": {
        "id": "QV5rBWDRFOw5"
      },
      "source": [
        ""
      ],
      "execution_count": null,
      "outputs": []
    },
    {
      "cell_type": "code",
      "metadata": {
        "id": "gyi9l3ucAdq_"
      },
      "source": [
        ""
      ],
      "execution_count": null,
      "outputs": []
    }
  ]
}